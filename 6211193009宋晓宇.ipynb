{
 "cells": [
  {
   "cell_type": "code",
   "execution_count": 4,
   "id": "aa2fe57c",
   "metadata": {},
   "outputs": [
    {
     "name": "stdout",
     "output_type": "stream",
     "text": [
      "('orange', 'apple')\n",
      "('spinach', 'tomato')\n"
     ]
    }
   ],
   "source": [
    "#1.Create a tuple containing names of fruits and vegetables \n",
    "my_tuple1 = (\"orange\",\"apple\")\n",
    "my_tuple2=(\"spinach\",\"tomato\")\n",
    "print(my_tuple1)\n",
    "print(my_tuple2)"
   ]
  },
  {
   "cell_type": "code",
   "execution_count": 17,
   "id": "34b94733",
   "metadata": {
    "scrolled": true
   },
   "outputs": [
    {
     "name": "stdout",
     "output_type": "stream",
     "text": [
      "('orange', 'apple', 'spinach', 'tomato')\n"
     ]
    }
   ],
   "source": [
    "#2.Join fruits and vegetables tuples and assign it to fruits_vegetables\n",
    "fruits_vegetables=my_tuple1+my_tuple2\n",
    "print(fruits_vegetables)"
   ]
  },
  {
   "cell_type": "code",
   "execution_count": 14,
   "id": "e1aec72d",
   "metadata": {
    "scrolled": true
   },
   "outputs": [
    {
     "name": "stdout",
     "output_type": "stream",
     "text": [
      "Last index: 4\n"
     ]
    }
   ],
   "source": [
    "#3.How many fruits_vegetables do you have? \n",
    "print(\"Last index:\", len(fruits_vegetables)) "
   ]
  },
  {
   "cell_type": "code",
   "execution_count": 32,
   "id": "6dddb5de",
   "metadata": {
    "scrolled": false
   },
   "outputs": [
    {
     "name": "stdout",
     "output_type": "stream",
     "text": [
      "('orange', 'apple', 'spinach', 'tomato', 'doubendou', 'mushroom')\n"
     ]
    }
   ],
   "source": [
    "#4.Modify the fruits_vegetables tuple and add the name of your favorite mushroom and beverage and assign it to food_tuple\n",
    "fruits_vegetables=('orange', 'apple', 'spinach', 'tomato')\n",
    "food_tuple=fruits_vegetables+(\"doubendou\",)+(\"mushroom\",)\n",
    "print(food_tuple) "
   ]
  },
  {
   "cell_type": "code",
   "execution_count": 43,
   "id": "248cd28e",
   "metadata": {
    "scrolled": true
   },
   "outputs": [
    {
     "name": "stdout",
     "output_type": "stream",
     "text": [
      "('orange', 'apple')\n",
      "('spinach', 'tomato')\n"
     ]
    }
   ],
   "source": [
    "#Unpack fruits_vegetables and mushroom and beverage from food_tuple\n",
    "my_tuple1 = (\"orange\",\"apple\")\n",
    "my_tuple2=(\"spinach\",\"tomato\")\n",
    "print(my_tuple1)\n",
    "print(my_tuple2)"
   ]
  },
  {
   "cell_type": "code",
   "execution_count": 44,
   "id": "7b03029f",
   "metadata": {},
   "outputs": [
    {
     "data": {
      "text/plain": [
       "['orange', 'apple', 'spinach', 'tomato', 'doubendou', 'mushroom']"
      ]
     },
     "execution_count": 44,
     "metadata": {},
     "output_type": "execute_result"
    }
   ],
   "source": [
    "#2.Change the about food_tuple tuple to a food_list list\n",
    "food_tuple=fruits_vegetables+(\"doubendou\",)+(\"mushroom\",)\n",
    "list(food_tuple)"
   ]
  },
  {
   "cell_type": "code",
   "execution_count": 45,
   "id": "485c8044",
   "metadata": {},
   "outputs": [
    {
     "name": "stdout",
     "output_type": "stream",
     "text": [
      "('spinach', 'tomato')\n"
     ]
    }
   ],
   "source": [
    "#3.Slice out the middle item or items from the food_tuple tuple or food_list list.\n",
    "print(food_tuple[2:4]) "
   ]
  },
  {
   "cell_type": "code",
   "execution_count": 46,
   "id": "bd5b3c77",
   "metadata": {},
   "outputs": [
    {
     "name": "stdout",
     "output_type": "stream",
     "text": [
      "('tomato',)\n"
     ]
    }
   ],
   "source": [
    "#4.Slice out the first three items and the last three items from food_list list\n",
    "print(food_tuple[3:4]) "
   ]
  },
  {
   "cell_type": "code",
   "execution_count": 47,
   "id": "f59ccf89",
   "metadata": {},
   "outputs": [],
   "source": [
    "#5.Delete the food_tuple tuple completely\n",
    "del food_tuple"
   ]
  },
  {
   "cell_type": "code",
   "execution_count": 51,
   "id": "71539af1",
   "metadata": {},
   "outputs": [
    {
     "name": "stdout",
     "output_type": "stream",
     "text": [
      "False\n",
      "True\n"
     ]
    }
   ],
   "source": [
    "#6.Check if an item exists in tuple:Check if 'Finland' is a asian country;Check if 'India' is a asian country;asian_countries = ('India','China','Singapore','Thailand','Indonesia')\n",
    "asian_countries = ('India','China','Singapore','Thailand','Indonesia')\n",
    "print('Finland' in asian_countries)  \n",
    "print('India' in asian_countries) "
   ]
  },
  {
   "cell_type": "code",
   "execution_count": null,
   "id": "038be82b",
   "metadata": {},
   "outputs": [],
   "source": []
  }
 ],
 "metadata": {
  "kernelspec": {
   "display_name": "Python 3",
   "language": "python",
   "name": "python3"
  },
  "language_info": {
   "codemirror_mode": {
    "name": "ipython",
    "version": 3
   },
   "file_extension": ".py",
   "mimetype": "text/x-python",
   "name": "python",
   "nbconvert_exporter": "python",
   "pygments_lexer": "ipython3",
   "version": "3.8.8"
  }
 },
 "nbformat": 4,
 "nbformat_minor": 5
}
